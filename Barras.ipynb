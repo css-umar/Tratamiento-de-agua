{
 "cells": [
  {
   "cell_type": "markdown",
   "metadata": {
    "colab_type": "text",
    "id": "khhv6YgrM6lh"
   },
   "source": [
    "# Metodología para el diseño de rejilas"
   ]
  },
  {
   "cell_type": "markdown",
   "metadata": {
    "colab_type": "text",
    "id": "2E3gzfNmNRf3"
   },
   "source": [
    "El análisis asociado con el uso de unidades de cribado o rejillas involucra el cálculo de pérdida de energía a través de la unidad. El cálculo de pérdidas se realiza por separado para la unidad de rejas y el de rejillas."
   ]
  },
  {
   "cell_type": "markdown",
   "metadata": {
    "colab_type": "text",
    "id": "FUq0i7fgTxI_"
   },
   "source": [
    "# Rejas\n",
    "\n",
    "Pérdida hidráulica a través de las barras\n",
    "\n",
    "$$h_L=\\frac{1}{0.7}\\left(\\frac{V^2-v^2}{2g} \\right) $$\n",
    "\n",
    "donde:\n",
    "*   $h_L =$ pérdida de carga(m)\n",
    "*   $0.7 =$ coeficiente de descarga empírico que considera las pérdidas por turbulencia y remolinos.\n",
    "*  $V = $ velocidad de flujo a través de la apertura de las rejas (m/s)\n",
    "*  $v = $ velocidad de acercamiento en el canal aguas arriba(m/s)\n",
    "*  $g =$ aceleración de la gravedad (m/s)\n",
    "\n",
    "Las pérdidas se calculan con las barras limpias. El ensuciamiento de estas provoca un aumento en la pérdida de carga.\n",
    "\n",
    "\n"
   ]
  },
  {
   "cell_type": "markdown",
   "metadata": {
    "colab_type": "text",
    "id": "tK4E2BDuTtUl"
   },
   "source": [
    "## Ejemplo\n",
    "Una reja de barras rectangulares de 2.00 cm de espesor, instalada con una inclinación de 45º con la horizontal y espaciamiento libre entre barras (C) de 3.80 cm (el arreglo se presenta de la Ilustración 1.4 a la Ilustración 1.6), recibe un caudal máximo de 200.00 L/s. La limpieza de la reja es de forma manual. El canal desarenador tiene un tirante hidráulico (h) de 0.67 m, 1.00\n",
    "m de ancho (W) y un bordo libre (hb) de 0.30 m determinar los siguientes \n",
    "conceptos:\n",
    "1.   Área del canal\n",
    "2.   Velocidad antes de la reja\n",
    "3.   Longitud de la reja\n",
    "4.   Número de barras\n",
    "5.   Velocidad de acercamiento, aguas arriba\n",
    "6.   Velocidad a través de la reja\n",
    "7.   Pérdida hidráulica\n",
    "8.   Arreglo de barras\n",
    "9.   Alternativas para el arreglo\n",
    "10.  Recalcular la pérdida hidráulica"
   ]
  },
  {
   "cell_type": "markdown",
   "metadata": {
    "colab_type": "text",
    "id": "yfd31aoVYM1Y"
   },
   "source": [
    "Datos:"
   ]
  },
  {
   "cell_type": "code",
   "execution_count": 0,
   "metadata": {
    "colab": {},
    "colab_type": "code",
    "id": "AmtbiFmlYPbG"
   },
   "outputs": [],
   "source": [
    "import numpy as np\n",
    "import matplotlib.pyplot as plt\n",
    "import pandas as pd\n",
    "\n",
    "theta=45*np.pi/180         # 45 -> Inclinación de las barras, grados -> radianes\n",
    "C=3.80/100                 # Espaciamiento libre entre barras,cm -> m\n",
    "Qmax = 200/1000            # Cauda,l/s -> m^3/s\n",
    "h=0.67                     # Tirante hidráulico del canal desarenador, m \n",
    "W=1.00                     # Ancho del canal desarenador, m\n",
    "hb=0.30                    # Bordo libre, m\n",
    "db=2.00/100                # Espesor de la barra,cm-> m"
   ]
  },
  {
   "cell_type": "markdown",
   "metadata": {
    "colab_type": "text",
    "id": "ERW-3rxfafvD"
   },
   "source": [
    "### Área del canal $A=Wh$"
   ]
  },
  {
   "cell_type": "code",
   "execution_count": 0,
   "metadata": {
    "colab": {
     "base_uri": "https://localhost:8080/",
     "height": 34
    },
    "colab_type": "code",
    "id": "mEVnRoySamfv",
    "outputId": "6c6ae199-f668-4390-c542-4c6ddb9672e5"
   },
   "outputs": [
    {
     "name": "stdout",
     "output_type": "stream",
     "text": [
      "0.67\n"
     ]
    }
   ],
   "source": [
    "A=W*h\n",
    "print(A)"
   ]
  },
  {
   "cell_type": "markdown",
   "metadata": {
    "colab_type": "text",
    "id": "LRU5eMEQa8Am"
   },
   "source": [
    "### Velocidad antes de la reja $V=\\frac{Qmax}{A}$"
   ]
  },
  {
   "cell_type": "code",
   "execution_count": 0,
   "metadata": {
    "colab": {
     "base_uri": "https://localhost:8080/",
     "height": 34
    },
    "colab_type": "code",
    "id": "FY1uGkO1bJLm",
    "outputId": "f3eb8113-7503-43a7-a244-e25d599712e3"
   },
   "outputs": [
    {
     "name": "stdout",
     "output_type": "stream",
     "text": [
      "0.3\n"
     ]
    }
   ],
   "source": [
    "V=Qmax/A\n",
    "print(round(V,2))"
   ]
  },
  {
   "cell_type": "markdown",
   "metadata": {
    "colab_type": "text",
    "id": "ARmOPO-Ob1jR"
   },
   "source": [
    "### Longitud de la reja, $L=\\frac{h+h_b}{sin \\theta} $\n",
    "\n",
    "donde:\n",
    "\n",
    "*   $L =$ longitud de la reja, m\n",
    "*   $h = $ tirante hidráulico, m\n",
    "*   $h_b = $ bordo libre, m\n",
    "*   $\\theta$ = ángulo de inclinación, $^\\circ$\n"
   ]
  },
  {
   "cell_type": "code",
   "execution_count": 0,
   "metadata": {
    "colab": {
     "base_uri": "https://localhost:8080/",
     "height": 34
    },
    "colab_type": "code",
    "id": "8SSAWgOMcCe0",
    "outputId": "69c306f3-430d-4e6a-d02b-637d011a3a59"
   },
   "outputs": [
    {
     "name": "stdout",
     "output_type": "stream",
     "text": [
      "1.37\n"
     ]
    }
   ],
   "source": [
    "L = (h+hb)/np.sin(theta)\n",
    "print(round(L,2))"
   ]
  },
  {
   "cell_type": "markdown",
   "metadata": {
    "colab_type": "text",
    "id": "FNsT5ljOdRCp"
   },
   "source": [
    "### Número de barras, $C=\\frac{W-n\\,d_{b}}{n+1}$\n",
    "\n",
    "Donde: \n",
    "*   $C =$ claro de barras (apertura),m\n",
    "*   $W =$ ancho del canal,m\n",
    "*   $n =$ número de espacios\n",
    "*   $n+1  =$ número de barras\n",
    "*   $d_b =$ espesor de la barra,m\n",
    "\n",
    "Resolviendo para el número de barras, $n$\n",
    "\n",
    "$$n=\\frac{W-C}{C+d_n}$$"
   ]
  },
  {
   "cell_type": "code",
   "execution_count": 0,
   "metadata": {
    "colab": {
     "base_uri": "https://localhost:8080/",
     "height": 34
    },
    "colab_type": "code",
    "id": "vYGxONhKfqKM",
    "outputId": "9bf053e5-4c52-4547-9f42-38c8de9d3871"
   },
   "outputs": [
    {
     "name": "stdout",
     "output_type": "stream",
     "text": [
      "17.0\n"
     ]
    }
   ],
   "source": [
    "n=(W-C)/(C+db)\n",
    "print(round(n,0))"
   ]
  },
  {
   "cell_type": "markdown",
   "metadata": {
    "colab_type": "text",
    "id": "aC7IJFAMkdEe"
   },
   "source": [
    "### Número de barras= $n-1$\n"
   ]
  },
  {
   "cell_type": "code",
   "execution_count": 0,
   "metadata": {
    "colab": {
     "base_uri": "https://localhost:8080/",
     "height": 34
    },
    "colab_type": "code",
    "id": "uTVxLBP3kmGa",
    "outputId": "416f0d8a-8606-4813-a2cc-021b51434b71"
   },
   "outputs": [
    {
     "name": "stdout",
     "output_type": "stream",
     "text": [
      "16.0\n"
     ]
    }
   ],
   "source": [
    "barras=n-1\n",
    "print(round(barras,0))"
   ]
  },
  {
   "cell_type": "markdown",
   "metadata": {
    "colab_type": "text",
    "id": "bjgwYdwUkxf4"
   },
   "source": [
    "### Velocidad de acercamiento, aguas arriba, $V_a=\\frac{Q}{\\left(W-d_b  \\right)h}$\n",
    "Donde:\n",
    "*   $V_a=$ velocidad de acercamiento,$m/s$\n",
    "*   $Q =$ caudal,$m^3/s$\n",
    "*   $h = $ tirante hidráulico, $m$\n",
    "*   $d_b =$ espesor de la barra,$m$"
   ]
  },
  {
   "cell_type": "code",
   "execution_count": 0,
   "metadata": {
    "colab": {
     "base_uri": "https://localhost:8080/",
     "height": 34
    },
    "colab_type": "code",
    "id": "8scnE9nal544",
    "outputId": "3757dbc8-7f06-4b28-dac2-ccd0cead57f3"
   },
   "outputs": [
    {
     "name": "stdout",
     "output_type": "stream",
     "text": [
      "0.305\n"
     ]
    }
   ],
   "source": [
    "Va=Qmax/((W-db)*h)\n",
    "print(round(Va,3))"
   ]
  },
  {
   "cell_type": "markdown",
   "metadata": {
    "colab_type": "text",
    "id": "fIo1fAW7mSYe"
   },
   "source": [
    "### Velocidad a través de la reja, $V_r=\\frac{Q}{A-A_r}$\n",
    "Donde:\n",
    "\n",
    "\n",
    "*   $Ar=n\\,d_{b}\\,h$, Área de las rejas\n",
    "*   $Q = $ caudal, $m^3/s$\n",
    "*   $n= $ número de espacios\n",
    "*   $h = $ tirante hidráulico, $m$\n",
    "*   $d_b=$ espesor de la barra, $m$\n"
   ]
  },
  {
   "cell_type": "code",
   "execution_count": 0,
   "metadata": {
    "colab": {
     "base_uri": "https://localhost:8080/",
     "height": 51
    },
    "colab_type": "code",
    "id": "pukBVeTPogbo",
    "outputId": "fb2ad8e3-e9ae-41a3-ba7b-77b53ee9c49a"
   },
   "outputs": [
    {
     "name": "stdout",
     "output_type": "stream",
     "text": [
      "0.22\n",
      "0.45\n"
     ]
    }
   ],
   "source": [
    "Ar=n*db*h\n",
    "print(round(Ar,2))\n",
    "Vr=Qmax/(A-Ar)\n",
    "print(round(Vr,2))"
   ]
  },
  {
   "cell_type": "markdown",
   "metadata": {
    "colab_type": "text",
    "id": "tPhkuI4XpCtk"
   },
   "source": [
    "### Pérdida hidráulica, $h_L=\\frac{1}{0.7}\\left(\\frac{V_{r}^{2}-V_{a}^{2}}{2\\,g} \\right) $\n",
    "Donde:\n",
    "*   $V_r=$ velocidad a través de la reja, $m/s$ \n",
    "*   $V_a=$ velocidad de acercamiento, $m/s$\n",
    "*   $g =9.81 $ constante de aceleración gravitacional, $m/s^2$\n"
   ]
  },
  {
   "cell_type": "code",
   "execution_count": 0,
   "metadata": {
    "colab": {
     "base_uri": "https://localhost:8080/",
     "height": 34
    },
    "colab_type": "code",
    "id": "a5-CL0EWqJGs",
    "outputId": "a9450574-60ab-42a4-c9a4-e6fb9a504142"
   },
   "outputs": [
    {
     "name": "stdout",
     "output_type": "stream",
     "text": [
      "0.0078\n"
     ]
    }
   ],
   "source": [
    "hL=(1/0.7)*((Vr**2-Va**2)/(2*9.81))\n",
    "print(round(hL,4))"
   ]
  },
  {
   "cell_type": "markdown",
   "metadata": {
    "colab_type": "text",
    "id": "rKIlDslPr__M"
   },
   "source": [
    "#### Arreglo de las barras\n",
    "\n",
    "\n",
    "*   Ancho del canal = 1.00 m\n",
    "*   16 barras de 0.02 m de espesor ocupan una longitud de 0.32 m\n",
    "*   17 espacios de 0.038 m ocupan una longitud de 0.64\n",
    "*   0.64 + 0.32=96 lo cual es menor que el ancho del canal \n"
   ]
  },
  {
   "cell_type": "code",
   "execution_count": 0,
   "metadata": {
    "colab": {
     "base_uri": "https://localhost:8080/",
     "height": 204
    },
    "colab_type": "code",
    "id": "OewX4WM4x_Qz",
    "outputId": "60c536eb-6ab2-4f92-a34c-f0ddf419a68c"
   },
   "outputs": [
    {
     "name": "stdout",
     "output_type": "stream",
     "text": [
      "                            Concepto      Valor  Unidad\n",
      "0                  Ancho del canal,W   1.000000       m\n",
      "1              Tirante hidraulico, h   0.670000       m\n",
      "2                    Bordo libre, hb   0.300000       m\n",
      "3                Número de espacios,  16.586207     [-]\n",
      "4              Número de barras, n-1  15.586207     [-]\n",
      "5                 Claro de barras, C   0.038000       m\n",
      "6      Inclinación de la reja, theta   0.785398  grados\n",
      "7              Pérdida hidráulica,hL   0.007772       m\n",
      "8      Velocidad de acercamiento, Va   0.304599     m/s\n",
      "9  Velocidad a través de la reja, Vr   0.446683     m/s\n"
     ]
    }
   ],
   "source": [
    "Resumen = pd.DataFrame(columns=('Concepto', 'Valor', 'Unidad'))\n",
    "Resumen.loc[len(Resumen)]=['Ancho del canal,W',W,'m'] \n",
    "Resumen.loc[len(Resumen)]=['Tirante hidraulico, h',h,'m']\n",
    "Resumen.loc[len(Resumen)]=['Bordo libre, hb',hb,'m']\n",
    "Resumen.loc[len(Resumen)]=['Número de espacios,',n,'[-]']\n",
    "Resumen.loc[len(Resumen)]=['Número de barras, n-1',n-1,'[-]']\n",
    "Resumen.loc[len(Resumen)]=['Claro de barras, C',C,'m']\n",
    "Resumen.loc[len(Resumen)]=['Inclinación de la reja, theta',theta,'grados']\n",
    "Resumen.loc[len(Resumen)]=['Pérdida hidráulica,hL',hL,'m']\n",
    "Resumen.loc[len(Resumen)]=['Velocidad de acercamiento, Va',Va,'m/s']\n",
    "Resumen.loc[len(Resumen)]=['Velocidad a través de la reja, Vr',Vr,'m/s']\n",
    "\n",
    "print(Resumen)"
   ]
  }
 ],
 "metadata": {
  "colab": {
   "collapsed_sections": [],
   "name": "Barras.ipynb",
   "provenance": []
  },
  "kernelspec": {
   "display_name": "Python 2",
   "language": "python",
   "name": "python2"
  },
  "language_info": {
   "codemirror_mode": {
    "name": "ipython",
    "version": 2
   },
   "file_extension": ".py",
   "mimetype": "text/x-python",
   "name": "python",
   "nbconvert_exporter": "python",
   "pygments_lexer": "ipython2",
   "version": "2.7.15"
  }
 },
 "nbformat": 4,
 "nbformat_minor": 1
}
