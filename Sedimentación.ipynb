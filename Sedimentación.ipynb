{
 "cells": [
  {
   "cell_type": "code",
   "execution_count": 1,
   "metadata": {},
   "outputs": [],
   "source": [
    "import numpy as np\n",
    "import matplotlib.pyplot as plt\n",
    "import pint \n",
    "SI = pint.UnitRegistry()"
   ]
  },
  {
   "attachments": {},
   "cell_type": "markdown",
   "metadata": {},
   "source": [
    "# Teoría de sepación por gravedad\n",
    "\n",
    "La remoción por gravedad de material suspendido y coloidal del agua residual es una de las operaciones unitarias más usadas.\n",
    "\n",
    "Se usa para remover:\n",
    "\n",
    "* arenas\n",
    "* SST en sedimentadores primarios\n",
    "* floculos biológicos o químicos en taques de sedimentación\n",
    "\n",
    "con el objetivo de producir un efluete clarificado. También se usa para concentrar lodos y puedan ser fácilmente manejables y tratables.\n",
    "\n",
    "Existen cuatro tipos de sedimentación por gravedad:\n",
    "\n",
    "1. partículas discretas\n",
    "2. floculenta\n",
    "3. zonal o de caida interferida\n",
    "4. por compresión\n",
    "\n",
    "[Tabla5-14.png](attachment:Tabla5-14.png)\n",
    "\n",
    "## Sedimentación de partículas discretas\n",
    "\n",
    "$$v_{p(t)}=\\sqrt{\\frac{4g}{3C_d}\\left(\\frac{\\rho_p-\\rho_w}{\\rho_w} \\right)}\\approx \\sqrt{\\frac{4g}{3C_d}(sg_p-1)d_p}$$\n",
    "\n",
    "donde:\n",
    "\n",
    "* $v_{p(t)}=$  velocidad terminal de la partícula,$m\\,s^{-1}$ \n",
    "* $d_p=$ diámetro de la partícula, $m$\n",
    "* $sg_p=$ gravedad específica de la partícula\n",
    "* $C_d=$ coeficiente de arrastre,$[-]$\n",
    "\n",
    "El coeficiente $C_d$ depende del régimen hidrodinámico (laminar o turbulento) que rodea a la partícula y de la forma de la partícula:\n",
    "\n",
    "* laminar si $Re<1$\n",
    "* transición si $1<Re<2000$\n",
    "* turbulento si $Re>2000$\n",
    "\n",
    "[Fig5-19.png](attachment:Fig5-19.png)\n",
    "\n",
    "\n",
    "$$Re=\\frac{v_p\\,d_p\\,\\rho_w}{\\mu}=\\frac{v_p\\,d_p}{\\nu}$$\n",
    "\n",
    "donde:\n",
    "\n",
    "* $\\mu=$ viscosidad dinámica, $N\\,s\\,m^{-2}$\n",
    "* $\\nu=$ viscosidad cinemática, $m^2\\,s^{-1}$\n",
    "\n",
    "Para partículas que son aproximadamente esféricas, el $C_d$ se puede aproximar por la siguiente ecuación:\n",
    "\n",
    "$$C_d=\\frac{24}{Re}+\\frac{3}{\\sqrt{Re}}+0.34 $$\n",
    "\n",
    "Para partículas que no son esféricas:\n",
    "\n",
    "$$v_{p(t)}=\\sqrt{\\frac{4g}{3C_d\\phi}(sg_p-1)d_p} $$\n",
    "\n",
    "donde:\n",
    "* $\\phi$ es un factor de forma\n",
    "> * $\\phi=1.0$ para esferas\n",
    "> * $\\phi=2.0$ para granos de arena\n",
    "> * $\\phi>0$ para floculos\n",
    "\n",
    "### Sedimentación en la región laminar, $Re<1$\n",
    "\n",
    "En estas condiciones, las fuerzas viscosas son las que dominan el proceso de sedimentación, por lo tanto:\n",
    "\n",
    "$$C_d=\\frac{24}{Re}$$\n",
    "\n",
    "Asumiendo partículas esféricas $(\\phi=1)$, se tiene que:\n",
    "\n",
    "$$v_{p(t)}=\\frac{g(\\rho_p-\\rho_w)d_{p}^{2}}{18\\,\\mu}\\approx \\frac{g(sg_p-1)d_{p}^{2}}{18\\,\\nu}$$\n",
    "\n",
    "### Sedimentación en la región de transición\n",
    "\n",
    "En esta región se debe utilizar la forma completa del $C_d$\n",
    "\n",
    "[Fig5-20.png](attachment:Fig5-20.png)\n",
    "\n",
    "### Sedimentación en la región turbulenta\n",
    "\n",
    "En estas condiciones, las fuerzas inerciales predominan, por lo tanto, los dos primeros térmimos de la ecuación para el  $C_d$ son pequeños, se usa un valor de $0.4$ para el coeficiente de arrastre:\n",
    "\n",
    "$$v_{p(t)}=\\sqrt{3.33\\,g\\left(\\frac{\\rho_p-\\rho_w}{\\rho_w} \\right)}\\approx \\sqrt{3.33\\,g(sg_p-1)d_p} $$\n",
    "\n",
    "\n"
   ]
  },
  {
   "cell_type": "markdown",
   "metadata": {},
   "source": [
    "#### Ejemplo 5-5 Determine la velocidad terminal de sedimentación\n",
    "\n",
    "* arena con un diámetro promedio de $0.5\\,mm$\n",
    "* factor de forma de $0.85$ \n",
    "* temperatura del agua de $20^{o}C$\n",
    "* gravedad específica de 2.65,$[-]$\n",
    "* viscosidad cinemática $\\nu(20^o\\,C)=1.003\\times 10^{-6}\\, m^2\\,s^{-1}$"
   ]
  },
  {
   "cell_type": "code",
   "execution_count": 10,
   "metadata": {},
   "outputs": [],
   "source": [
    "dp=(0.5/1000)*SI.meter\n",
    "phi=0.85\n",
    "T_agua=20\n",
    "sg_p=2.65\n",
    "nu=1.003e-6*(SI.meter**2/SI.second)\n",
    "g=9.81*(SI.meter/SI.second**2)\n"
   ]
  },
  {
   "cell_type": "markdown",
   "metadata": {},
   "source": [
    "#### Paso 1\n",
    "Determinar la velocidad terminal de sedimentación utilizando la ley de Stoke"
   ]
  },
  {
   "cell_type": "code",
   "execution_count": 11,
   "metadata": {},
   "outputs": [
    {
     "name": "stdout",
     "output_type": "stream",
     "text": [
      "0.224140079761 meter / second\n"
     ]
    }
   ],
   "source": [
    "vp = g*(sg_p-1)*dp**2/(18*nu)\n",
    "print(vp)"
   ]
  },
  {
   "cell_type": "markdown",
   "metadata": {},
   "source": [
    "#### Paso 2\n",
    "Verificar el número de Reynolds"
   ]
  },
  {
   "cell_type": "code",
   "execution_count": 13,
   "metadata": {},
   "outputs": [
    {
     "name": "stdout",
     "output_type": "stream",
     "text": [
      "94.9746100681 dimensionless\n"
     ]
    }
   ],
   "source": [
    "Re=phi*vp*dp/nu\n",
    "print(Re)"
   ]
  },
  {
   "cell_type": "markdown",
   "metadata": {},
   "source": [
    "Como $Re > 1$ la ley de Stokes no es valida en este régimen, por lo tanto se debe usar la ley de Newton. "
   ]
  },
  {
   "cell_type": "code",
   "execution_count": 16,
   "metadata": {},
   "outputs": [
    {
     "name": "stdout",
     "output_type": "stream",
     "text": [
      "0.109466402778 meter / second\n"
     ]
    }
   ],
   "source": [
    "MAXIT=20\n",
    "EPSILON=0.00001\n",
    "for i in range(MAXIT):\n",
    "    CD=(24/Re)+(3/np.sqrt(Re))+0.34\n",
    "    vp_n = np.sqrt(4*g*(sg_p-1)*dp/(3*CD))\n",
    "    ERROR=np.fabs(vp_n-vp)\n",
    "    if ERROR<= EPSILON:\n",
    "        print(vp_n)\n",
    "        break\n",
    "    else:\n",
    "        Re=phi*vp*dp/nu\n",
    "        vp=vp_n\n",
    "        \n",
    "    "
   ]
  },
  {
   "cell_type": "code",
   "execution_count": null,
   "metadata": {},
   "outputs": [],
   "source": []
  }
 ],
 "metadata": {
  "kernelspec": {
   "display_name": "Python 2",
   "language": "python",
   "name": "python2"
  },
  "language_info": {
   "codemirror_mode": {
    "name": "ipython",
    "version": 2
   },
   "file_extension": ".py",
   "mimetype": "text/x-python",
   "name": "python",
   "nbconvert_exporter": "python",
   "pygments_lexer": "ipython2",
   "version": "2.7.15"
  }
 },
 "nbformat": 4,
 "nbformat_minor": 2
}
